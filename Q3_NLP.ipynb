{
  "nbformat": 4,
  "nbformat_minor": 0,
  "metadata": {
    "colab": {
      "name": "Project1_Q3.ipynb",
      "provenance": [],
      "collapsed_sections": []
    },
    "kernelspec": {
      "display_name": "Python 3",
      "name": "python3"
    },
    "language_info": {
      "name": "python"
    }
  },
  "cells": [
    {
      "cell_type": "markdown",
      "metadata": {
        "id": "G7BXIN0O2xNN"
      },
      "source": [
        "# Neural Networks and Deep Learning Spring 1400 <img src = 'https://ece.ut.ac.ir/cict-theme/images/footer-logo.png' alt=\"Tehran-University-Logo\" width=\"150\" height=\"150\" align=\"right\">\n",
        "## Project 2 - Question 3\n",
        "### By Omid Vaheb and Mahsa Masoud"
      ]
    },
    {
      "cell_type": "markdown",
      "metadata": {
        "id": "5K42NW1V2yQ4"
      },
      "source": [
        "##Importing Required Libraries"
      ]
    },
    {
      "cell_type": "code",
      "metadata": {
        "colab": {
          "base_uri": "https://localhost:8080/"
        },
        "id": "u2HQ6jjLxLwe",
        "outputId": "6fd0619e-51c5-42fd-fb43-41488a4d9a59"
      },
      "source": [
        "import numpy as np\n",
        "import matplotlib.pyplot as plt\n",
        "import pandas as pd\n",
        "import random\n",
        "import re, string, timeit\n",
        "import nltk\n",
        "from nltk.corpus import stopwords\n",
        "nltk.download('stopwords')\n",
        "from sklearn.model_selection import train_test_split\n",
        "!pip install pyspellchecker\n",
        "from spellchecker import SpellChecker\n",
        "!pip install demoji\n",
        "import demoji\n",
        "demoji.download_codes()\n",
        "from collections import Counter\n",
        "from keras.models import Sequential\n",
        "from keras.layers import Dense\n",
        "from keras.layers import LSTM\n",
        "from keras.layers.embeddings import Embedding\n",
        "from keras.preprocessing import sequence"
      ],
      "execution_count": 45,
      "outputs": [
        {
          "output_type": "stream",
          "text": [
            "[nltk_data] Downloading package stopwords to /root/nltk_data...\n",
            "[nltk_data]   Package stopwords is already up-to-date!\n",
            "Requirement already satisfied: pyspellchecker in /usr/local/lib/python3.7/dist-packages (0.6.2)\n",
            "Requirement already satisfied: demoji in /usr/local/lib/python3.7/dist-packages (0.4.0)\n",
            "Requirement already satisfied: colorama in /usr/local/lib/python3.7/dist-packages (from demoji) (0.4.4)\n",
            "Requirement already satisfied: requests<3.0.0 in /usr/local/lib/python3.7/dist-packages (from demoji) (2.23.0)\n",
            "Requirement already satisfied: idna<3,>=2.5 in /usr/local/lib/python3.7/dist-packages (from requests<3.0.0->demoji) (2.10)\n",
            "Requirement already satisfied: certifi>=2017.4.17 in /usr/local/lib/python3.7/dist-packages (from requests<3.0.0->demoji) (2021.5.30)\n",
            "Requirement already satisfied: chardet<4,>=3.0.2 in /usr/local/lib/python3.7/dist-packages (from requests<3.0.0->demoji) (3.0.4)\n",
            "Requirement already satisfied: urllib3!=1.25.0,!=1.25.1,<1.26,>=1.21.1 in /usr/local/lib/python3.7/dist-packages (from requests<3.0.0->demoji) (1.24.3)\n",
            "Downloading emoji data ...\n",
            "... OK (Got response in 0.13 seconds)\n",
            "Writing emoji data to /root/.demoji/codes.json ...\n",
            "... OK\n"
          ],
          "name": "stdout"
        }
      ]
    },
    {
      "cell_type": "markdown",
      "metadata": {
        "id": "34KBkZfp9WbT"
      },
      "source": [
        "## Importing Dataset"
      ]
    },
    {
      "cell_type": "code",
      "metadata": {
        "id": "QbPb7LQCw1TA"
      },
      "source": [
        "data = pd.read_csv(\"/content/sentiment_final.csv\")"
      ],
      "execution_count": 21,
      "outputs": []
    },
    {
      "cell_type": "markdown",
      "metadata": {
        "id": "8Vg5GIBD9eGA"
      },
      "source": [
        "## Observing Data"
      ]
    },
    {
      "cell_type": "code",
      "metadata": {
        "colab": {
          "base_uri": "https://localhost:8080/",
          "height": 359
        },
        "id": "oW0rGW6AxTdV",
        "outputId": "9d6a4bc0-c488-4e91-f44d-e090a9cffa30"
      },
      "source": [
        "data.head(10)"
      ],
      "execution_count": 22,
      "outputs": [
        {
          "output_type": "execute_result",
          "data": {
            "text/html": [
              "<div>\n",
              "<style scoped>\n",
              "    .dataframe tbody tr th:only-of-type {\n",
              "        vertical-align: middle;\n",
              "    }\n",
              "\n",
              "    .dataframe tbody tr th {\n",
              "        vertical-align: top;\n",
              "    }\n",
              "\n",
              "    .dataframe thead th {\n",
              "        text-align: right;\n",
              "    }\n",
              "</style>\n",
              "<table border=\"1\" class=\"dataframe\">\n",
              "  <thead>\n",
              "    <tr style=\"text-align: right;\">\n",
              "      <th></th>\n",
              "      <th>text</th>\n",
              "      <th>sentiment</th>\n",
              "    </tr>\n",
              "  </thead>\n",
              "  <tbody>\n",
              "    <tr>\n",
              "      <th>0</th>\n",
              "      <td>RT @ScottWalker: Didn't catch the full #GOPdeb...</td>\n",
              "      <td>Positive</td>\n",
              "    </tr>\n",
              "    <tr>\n",
              "      <th>1</th>\n",
              "      <td>RT @RobGeorge: That Carly Fiorina is trending ...</td>\n",
              "      <td>Positive</td>\n",
              "    </tr>\n",
              "    <tr>\n",
              "      <th>2</th>\n",
              "      <td>RT @DanScavino: #GOPDebate w/ @realDonaldTrump...</td>\n",
              "      <td>Positive</td>\n",
              "    </tr>\n",
              "    <tr>\n",
              "      <th>3</th>\n",
              "      <td>RT @GregAbbott_TX: @TedCruz: \"On my first day ...</td>\n",
              "      <td>Positive</td>\n",
              "    </tr>\n",
              "    <tr>\n",
              "      <th>4</th>\n",
              "      <td>RT @warriorwoman91: I liked her and was happy ...</td>\n",
              "      <td>Negative</td>\n",
              "    </tr>\n",
              "    <tr>\n",
              "      <th>5</th>\n",
              "      <td>Deer in the headlights RT @lizzwinstead: Ben C...</td>\n",
              "      <td>Negative</td>\n",
              "    </tr>\n",
              "    <tr>\n",
              "      <th>6</th>\n",
              "      <td>RT @NancyOsborne180: Last night's debate prove...</td>\n",
              "      <td>Negative</td>\n",
              "    </tr>\n",
              "    <tr>\n",
              "      <th>7</th>\n",
              "      <td>@JGreenDC @realDonaldTrump In all fairness #Bi...</td>\n",
              "      <td>Negative</td>\n",
              "    </tr>\n",
              "    <tr>\n",
              "      <th>8</th>\n",
              "      <td>RT @WayneDupreeShow: Just woke up to tweet thi...</td>\n",
              "      <td>Positive</td>\n",
              "    </tr>\n",
              "    <tr>\n",
              "      <th>9</th>\n",
              "      <td>Me reading my family's comments about how grea...</td>\n",
              "      <td>Negative</td>\n",
              "    </tr>\n",
              "  </tbody>\n",
              "</table>\n",
              "</div>"
            ],
            "text/plain": [
              "                                                text sentiment\n",
              "0  RT @ScottWalker: Didn't catch the full #GOPdeb...  Positive\n",
              "1  RT @RobGeorge: That Carly Fiorina is trending ...  Positive\n",
              "2  RT @DanScavino: #GOPDebate w/ @realDonaldTrump...  Positive\n",
              "3  RT @GregAbbott_TX: @TedCruz: \"On my first day ...  Positive\n",
              "4  RT @warriorwoman91: I liked her and was happy ...  Negative\n",
              "5  Deer in the headlights RT @lizzwinstead: Ben C...  Negative\n",
              "6  RT @NancyOsborne180: Last night's debate prove...  Negative\n",
              "7  @JGreenDC @realDonaldTrump In all fairness #Bi...  Negative\n",
              "8  RT @WayneDupreeShow: Just woke up to tweet thi...  Positive\n",
              "9  Me reading my family's comments about how grea...  Negative"
            ]
          },
          "metadata": {
            "tags": []
          },
          "execution_count": 22
        }
      ]
    },
    {
      "cell_type": "code",
      "metadata": {
        "colab": {
          "base_uri": "https://localhost:8080/"
        },
        "id": "47s2i6CXabWo",
        "outputId": "8a2c7f67-ee44-4529-cfd4-149e72a55a4c"
      },
      "source": [
        "data['sentiment'].unique()"
      ],
      "execution_count": 23,
      "outputs": [
        {
          "output_type": "execute_result",
          "data": {
            "text/plain": [
              "array(['Positive', 'Negative'], dtype=object)"
            ]
          },
          "metadata": {
            "tags": []
          },
          "execution_count": 23
        }
      ]
    },
    {
      "cell_type": "code",
      "metadata": {
        "id": "caXb3H1xxtfm",
        "colab": {
          "base_uri": "https://localhost:8080/"
        },
        "outputId": "a088e3c2-9c94-4b23-df3b-447249aa2460"
      },
      "source": [
        "posNumber = 0\n",
        "negNumber = 0\n",
        "for i in range(len(data['sentiment'])):\n",
        "  if data['sentiment'][i] == 'Negative':\n",
        "    data['sentiment'][i] = 0\n",
        "    negNumber += 1\n",
        "  elif data['sentiment'][i] == 'Positive':\n",
        "    data['sentiment'][i] = 1\n",
        "    posNumber += 1\n",
        "print('Positive Sentiments :', posNumber)\n",
        "print('Negative Sentiments :', negNumber)"
      ],
      "execution_count": 24,
      "outputs": [
        {
          "output_type": "stream",
          "text": [
            "Positive Sentiments : 2236\n",
            "Negative Sentiments : 8493\n"
          ],
          "name": "stdout"
        }
      ]
    },
    {
      "cell_type": "code",
      "metadata": {
        "colab": {
          "base_uri": "https://localhost:8080/",
          "height": 359
        },
        "id": "wwfu6QJYatNp",
        "outputId": "0c289129-c364-4096-8d8f-7d1f55751bb2"
      },
      "source": [
        "data.head(10)"
      ],
      "execution_count": 25,
      "outputs": [
        {
          "output_type": "execute_result",
          "data": {
            "text/html": [
              "<div>\n",
              "<style scoped>\n",
              "    .dataframe tbody tr th:only-of-type {\n",
              "        vertical-align: middle;\n",
              "    }\n",
              "\n",
              "    .dataframe tbody tr th {\n",
              "        vertical-align: top;\n",
              "    }\n",
              "\n",
              "    .dataframe thead th {\n",
              "        text-align: right;\n",
              "    }\n",
              "</style>\n",
              "<table border=\"1\" class=\"dataframe\">\n",
              "  <thead>\n",
              "    <tr style=\"text-align: right;\">\n",
              "      <th></th>\n",
              "      <th>text</th>\n",
              "      <th>sentiment</th>\n",
              "    </tr>\n",
              "  </thead>\n",
              "  <tbody>\n",
              "    <tr>\n",
              "      <th>0</th>\n",
              "      <td>RT @ScottWalker: Didn't catch the full #GOPdeb...</td>\n",
              "      <td>1</td>\n",
              "    </tr>\n",
              "    <tr>\n",
              "      <th>1</th>\n",
              "      <td>RT @RobGeorge: That Carly Fiorina is trending ...</td>\n",
              "      <td>1</td>\n",
              "    </tr>\n",
              "    <tr>\n",
              "      <th>2</th>\n",
              "      <td>RT @DanScavino: #GOPDebate w/ @realDonaldTrump...</td>\n",
              "      <td>1</td>\n",
              "    </tr>\n",
              "    <tr>\n",
              "      <th>3</th>\n",
              "      <td>RT @GregAbbott_TX: @TedCruz: \"On my first day ...</td>\n",
              "      <td>1</td>\n",
              "    </tr>\n",
              "    <tr>\n",
              "      <th>4</th>\n",
              "      <td>RT @warriorwoman91: I liked her and was happy ...</td>\n",
              "      <td>0</td>\n",
              "    </tr>\n",
              "    <tr>\n",
              "      <th>5</th>\n",
              "      <td>Deer in the headlights RT @lizzwinstead: Ben C...</td>\n",
              "      <td>0</td>\n",
              "    </tr>\n",
              "    <tr>\n",
              "      <th>6</th>\n",
              "      <td>RT @NancyOsborne180: Last night's debate prove...</td>\n",
              "      <td>0</td>\n",
              "    </tr>\n",
              "    <tr>\n",
              "      <th>7</th>\n",
              "      <td>@JGreenDC @realDonaldTrump In all fairness #Bi...</td>\n",
              "      <td>0</td>\n",
              "    </tr>\n",
              "    <tr>\n",
              "      <th>8</th>\n",
              "      <td>RT @WayneDupreeShow: Just woke up to tweet thi...</td>\n",
              "      <td>1</td>\n",
              "    </tr>\n",
              "    <tr>\n",
              "      <th>9</th>\n",
              "      <td>Me reading my family's comments about how grea...</td>\n",
              "      <td>0</td>\n",
              "    </tr>\n",
              "  </tbody>\n",
              "</table>\n",
              "</div>"
            ],
            "text/plain": [
              "                                                text sentiment\n",
              "0  RT @ScottWalker: Didn't catch the full #GOPdeb...         1\n",
              "1  RT @RobGeorge: That Carly Fiorina is trending ...         1\n",
              "2  RT @DanScavino: #GOPDebate w/ @realDonaldTrump...         1\n",
              "3  RT @GregAbbott_TX: @TedCruz: \"On my first day ...         1\n",
              "4  RT @warriorwoman91: I liked her and was happy ...         0\n",
              "5  Deer in the headlights RT @lizzwinstead: Ben C...         0\n",
              "6  RT @NancyOsborne180: Last night's debate prove...         0\n",
              "7  @JGreenDC @realDonaldTrump In all fairness #Bi...         0\n",
              "8  RT @WayneDupreeShow: Just woke up to tweet thi...         1\n",
              "9  Me reading my family's comments about how grea...         0"
            ]
          },
          "metadata": {
            "tags": []
          },
          "execution_count": 25
        }
      ]
    },
    {
      "cell_type": "markdown",
      "metadata": {
        "id": "W_H6HUBd30HN"
      },
      "source": [
        "## Preprocessing"
      ]
    },
    {
      "cell_type": "code",
      "metadata": {
        "id": "i9czi0bN-J97"
      },
      "source": [
        "def deletePunc(sentence):\n",
        "  exclude = set(string.punctuation)\n",
        "  emptyString = \"\"\n",
        "  for x in exclude:\n",
        "      sentence = sentence.replace(x, emptyString)\n",
        "  return sentence"
      ],
      "execution_count": 26,
      "outputs": []
    },
    {
      "cell_type": "code",
      "metadata": {
        "id": "AlgliKabn_Mz"
      },
      "source": [
        "def replaceEmojies(sentence):\n",
        "  exclude = demoji.findall(sentence)\n",
        "  for x in exclude:\n",
        "      sentence = sentence.replace(x, exclude[x])\n",
        "  return sentence"
      ],
      "execution_count": 27,
      "outputs": []
    },
    {
      "cell_type": "code",
      "metadata": {
        "id": "7smgom8pvaqU"
      },
      "source": [
        "def cleanhtml(sentence):\n",
        "  cleanr = re.compile('<.*?>')\n",
        "  cleantext = re.sub(cleanr, '', sentence)\n",
        "  return cleantext"
      ],
      "execution_count": 28,
      "outputs": []
    },
    {
      "cell_type": "code",
      "metadata": {
        "id": "QJZseEGsEJaW"
      },
      "source": [
        "stopwords2 = set(stopwords.words('english'))"
      ],
      "execution_count": 29,
      "outputs": []
    },
    {
      "cell_type": "code",
      "metadata": {
        "id": "_oODeA5M0Pvo"
      },
      "source": [
        "def cleanseData(df):\n",
        "  for i in range(len(df['text'])):\n",
        "    s =  df['text'][i]\n",
        "    s = s.lower()\n",
        "    s = deletePunc(s)\n",
        "    s = replaceEmojies(s)\n",
        "    s = re.sub(r\"http\\S+\", \"\", s)\n",
        "    s = cleanhtml(s)\n",
        "    s = s.split(' ')\n",
        "    s_list = []\n",
        "    for word in s:\n",
        "        if word not in stopwords2:\n",
        "            s_list.append(word)\n",
        "    spell = SpellChecker()\n",
        "    for j in range(len(s_list)):\n",
        "      word = s_list[j]\n",
        "      s_list[j] = spell.correction(word)\n",
        "    df['text'][i] = s_list\n",
        "    if i % 1000 == 0:\n",
        "      print(i)\n",
        "  return df"
      ],
      "execution_count": 30,
      "outputs": []
    },
    {
      "cell_type": "code",
      "metadata": {
        "colab": {
          "base_uri": "https://localhost:8080/"
        },
        "id": "PY0sD8AW2Axl",
        "outputId": "6444051e-731e-4688-eccd-9f17eab4f950"
      },
      "source": [
        "dataset = cleanseData(data)"
      ],
      "execution_count": 31,
      "outputs": [
        {
          "output_type": "stream",
          "text": [
            "0\n",
            "1000\n",
            "2000\n",
            "3000\n",
            "4000\n",
            "5000\n",
            "6000\n",
            "7000\n",
            "8000\n",
            "9000\n",
            "10000\n"
          ],
          "name": "stdout"
        }
      ]
    },
    {
      "cell_type": "code",
      "metadata": {
        "colab": {
          "base_uri": "https://localhost:8080/",
          "height": 419
        },
        "id": "jHQbwyb_MHhX",
        "outputId": "8b6c836f-87d2-4520-ec58-c64eb6b94a76"
      },
      "source": [
        "data"
      ],
      "execution_count": 32,
      "outputs": [
        {
          "output_type": "execute_result",
          "data": {
            "text/html": [
              "<div>\n",
              "<style scoped>\n",
              "    .dataframe tbody tr th:only-of-type {\n",
              "        vertical-align: middle;\n",
              "    }\n",
              "\n",
              "    .dataframe tbody tr th {\n",
              "        vertical-align: top;\n",
              "    }\n",
              "\n",
              "    .dataframe thead th {\n",
              "        text-align: right;\n",
              "    }\n",
              "</style>\n",
              "<table border=\"1\" class=\"dataframe\">\n",
              "  <thead>\n",
              "    <tr style=\"text-align: right;\">\n",
              "      <th></th>\n",
              "      <th>text</th>\n",
              "      <th>sentiment</th>\n",
              "    </tr>\n",
              "  </thead>\n",
              "  <tbody>\n",
              "    <tr>\n",
              "      <th>0</th>\n",
              "      <td>[it, scottwalker, didnt, catch, full, gopdebat...</td>\n",
              "      <td>1</td>\n",
              "    </tr>\n",
              "    <tr>\n",
              "      <th>1</th>\n",
              "      <td>[it, robgeorge, carly, firing, trending, i, ho...</td>\n",
              "      <td>1</td>\n",
              "    </tr>\n",
              "    <tr>\n",
              "      <th>2</th>\n",
              "      <td>[it, danscavino, gopdebate, i, realdonaldtrump...</td>\n",
              "      <td>1</td>\n",
              "    </tr>\n",
              "    <tr>\n",
              "      <th>3</th>\n",
              "      <td>[it, gregabbotttx, tedcruz, first, day, rescin...</td>\n",
              "      <td>1</td>\n",
              "    </tr>\n",
              "    <tr>\n",
              "      <th>4</th>\n",
              "      <td>[it, warriorwoman91, liked, happy, heard, goin...</td>\n",
              "      <td>0</td>\n",
              "    </tr>\n",
              "    <tr>\n",
              "      <th>...</th>\n",
              "      <td>...</td>\n",
              "      <td>...</td>\n",
              "    </tr>\n",
              "    <tr>\n",
              "      <th>10724</th>\n",
              "      <td>[it, cappyyarbrough, love, see, men, never, fa...</td>\n",
              "      <td>0</td>\n",
              "    </tr>\n",
              "    <tr>\n",
              "      <th>10725</th>\n",
              "      <td>[it, georgehenryw, thought, huckabees, exceede...</td>\n",
              "      <td>1</td>\n",
              "    </tr>\n",
              "    <tr>\n",
              "      <th>10726</th>\n",
              "      <td>[it, lrihendry, tedcruz, president, always, te...</td>\n",
              "      <td>1</td>\n",
              "    </tr>\n",
              "    <tr>\n",
              "      <th>10727</th>\n",
              "      <td>[it, reeling, gopdebate, donald, trump, says, ...</td>\n",
              "      <td>0</td>\n",
              "    </tr>\n",
              "    <tr>\n",
              "      <th>10728</th>\n",
              "      <td>[it, lrihendry, tedcruz, headed, presidential,...</td>\n",
              "      <td>1</td>\n",
              "    </tr>\n",
              "  </tbody>\n",
              "</table>\n",
              "<p>10729 rows × 2 columns</p>\n",
              "</div>"
            ],
            "text/plain": [
              "                                                    text sentiment\n",
              "0      [it, scottwalker, didnt, catch, full, gopdebat...         1\n",
              "1      [it, robgeorge, carly, firing, trending, i, ho...         1\n",
              "2      [it, danscavino, gopdebate, i, realdonaldtrump...         1\n",
              "3      [it, gregabbotttx, tedcruz, first, day, rescin...         1\n",
              "4      [it, warriorwoman91, liked, happy, heard, goin...         0\n",
              "...                                                  ...       ...\n",
              "10724  [it, cappyyarbrough, love, see, men, never, fa...         0\n",
              "10725  [it, georgehenryw, thought, huckabees, exceede...         1\n",
              "10726  [it, lrihendry, tedcruz, president, always, te...         1\n",
              "10727  [it, reeling, gopdebate, donald, trump, says, ...         0\n",
              "10728  [it, lrihendry, tedcruz, headed, presidential,...         1\n",
              "\n",
              "[10729 rows x 2 columns]"
            ]
          },
          "metadata": {
            "tags": []
          },
          "execution_count": 32
        }
      ]
    },
    {
      "cell_type": "code",
      "metadata": {
        "id": "xCBzh-Ula0lH"
      },
      "source": [
        "dataset.to_csv('preprocessed.csv')"
      ],
      "execution_count": 38,
      "outputs": []
    },
    {
      "cell_type": "markdown",
      "metadata": {
        "id": "8NpsRhjuf92B"
      },
      "source": [
        "## Balancing Classes in Dataset"
      ]
    },
    {
      "cell_type": "code",
      "metadata": {
        "id": "Y0Sp0zhyvsT0"
      },
      "source": [
        "positives = dataset.loc[dataset['sentiment'] == 1]"
      ],
      "execution_count": 39,
      "outputs": []
    },
    {
      "cell_type": "code",
      "metadata": {
        "id": "2AxQk4s1wHyu"
      },
      "source": [
        "data2 = pd.concat([dataset, positives, positives, positives])"
      ],
      "execution_count": 40,
      "outputs": []
    },
    {
      "cell_type": "code",
      "metadata": {
        "colab": {
          "base_uri": "https://localhost:8080/",
          "height": 419
        },
        "id": "bi5vd97kAEfx",
        "outputId": "cb6d279e-b23c-40a2-eb05-33562e253130"
      },
      "source": [
        "data2"
      ],
      "execution_count": 41,
      "outputs": [
        {
          "output_type": "execute_result",
          "data": {
            "text/html": [
              "<div>\n",
              "<style scoped>\n",
              "    .dataframe tbody tr th:only-of-type {\n",
              "        vertical-align: middle;\n",
              "    }\n",
              "\n",
              "    .dataframe tbody tr th {\n",
              "        vertical-align: top;\n",
              "    }\n",
              "\n",
              "    .dataframe thead th {\n",
              "        text-align: right;\n",
              "    }\n",
              "</style>\n",
              "<table border=\"1\" class=\"dataframe\">\n",
              "  <thead>\n",
              "    <tr style=\"text-align: right;\">\n",
              "      <th></th>\n",
              "      <th>text</th>\n",
              "      <th>sentiment</th>\n",
              "    </tr>\n",
              "  </thead>\n",
              "  <tbody>\n",
              "    <tr>\n",
              "      <th>0</th>\n",
              "      <td>[it, scottwalker, didnt, catch, full, gopdebat...</td>\n",
              "      <td>1</td>\n",
              "    </tr>\n",
              "    <tr>\n",
              "      <th>1</th>\n",
              "      <td>[it, robgeorge, carly, firing, trending, i, ho...</td>\n",
              "      <td>1</td>\n",
              "    </tr>\n",
              "    <tr>\n",
              "      <th>2</th>\n",
              "      <td>[it, danscavino, gopdebate, i, realdonaldtrump...</td>\n",
              "      <td>1</td>\n",
              "    </tr>\n",
              "    <tr>\n",
              "      <th>3</th>\n",
              "      <td>[it, gregabbotttx, tedcruz, first, day, rescin...</td>\n",
              "      <td>1</td>\n",
              "    </tr>\n",
              "    <tr>\n",
              "      <th>4</th>\n",
              "      <td>[it, warriorwoman91, liked, happy, heard, goin...</td>\n",
              "      <td>0</td>\n",
              "    </tr>\n",
              "    <tr>\n",
              "      <th>...</th>\n",
              "      <td>...</td>\n",
              "      <td>...</td>\n",
              "    </tr>\n",
              "    <tr>\n",
              "      <th>10717</th>\n",
              "      <td>[best, line, gopdebate, immigration, without, ...</td>\n",
              "      <td>1</td>\n",
              "    </tr>\n",
              "    <tr>\n",
              "      <th>10720</th>\n",
              "      <td>[it, rwsurfergirl, trump, got, right, nobody, ...</td>\n",
              "      <td>1</td>\n",
              "    </tr>\n",
              "    <tr>\n",
              "      <th>10725</th>\n",
              "      <td>[it, georgehenryw, thought, huckabees, exceede...</td>\n",
              "      <td>1</td>\n",
              "    </tr>\n",
              "    <tr>\n",
              "      <th>10726</th>\n",
              "      <td>[it, lrihendry, tedcruz, president, always, te...</td>\n",
              "      <td>1</td>\n",
              "    </tr>\n",
              "    <tr>\n",
              "      <th>10728</th>\n",
              "      <td>[it, lrihendry, tedcruz, headed, presidential,...</td>\n",
              "      <td>1</td>\n",
              "    </tr>\n",
              "  </tbody>\n",
              "</table>\n",
              "<p>17437 rows × 2 columns</p>\n",
              "</div>"
            ],
            "text/plain": [
              "                                                    text sentiment\n",
              "0      [it, scottwalker, didnt, catch, full, gopdebat...         1\n",
              "1      [it, robgeorge, carly, firing, trending, i, ho...         1\n",
              "2      [it, danscavino, gopdebate, i, realdonaldtrump...         1\n",
              "3      [it, gregabbotttx, tedcruz, first, day, rescin...         1\n",
              "4      [it, warriorwoman91, liked, happy, heard, goin...         0\n",
              "...                                                  ...       ...\n",
              "10717  [best, line, gopdebate, immigration, without, ...         1\n",
              "10720  [it, rwsurfergirl, trump, got, right, nobody, ...         1\n",
              "10725  [it, georgehenryw, thought, huckabees, exceede...         1\n",
              "10726  [it, lrihendry, tedcruz, president, always, te...         1\n",
              "10728  [it, lrihendry, tedcruz, headed, presidential,...         1\n",
              "\n",
              "[17437 rows x 2 columns]"
            ]
          },
          "metadata": {
            "tags": []
          },
          "execution_count": 41
        }
      ]
    },
    {
      "cell_type": "code",
      "metadata": {
        "colab": {
          "base_uri": "https://localhost:8080/"
        },
        "id": "5jY_26R8BKxN",
        "outputId": "974807b2-d99c-4a43-a03d-d127e4383b19"
      },
      "source": [
        "counter = Counter(data2['sentiment'])\n",
        "print(counter)"
      ],
      "execution_count": 42,
      "outputs": [
        {
          "output_type": "stream",
          "text": [
            "Counter({1: 8944, 0: 8493})\n"
          ],
          "name": "stdout"
        }
      ]
    },
    {
      "cell_type": "code",
      "metadata": {
        "colab": {
          "base_uri": "https://localhost:8080/",
          "height": 419
        },
        "id": "g1Nlx8Jfwu6j",
        "outputId": "3d06e2ec-9d1a-4eb2-cdb7-32aaf6f81cf1"
      },
      "source": [
        "data2 = data2.sample(frac=1)\n",
        "data2 = data2.reset_index()\n",
        "data2"
      ],
      "execution_count": 43,
      "outputs": [
        {
          "output_type": "execute_result",
          "data": {
            "text/html": [
              "<div>\n",
              "<style scoped>\n",
              "    .dataframe tbody tr th:only-of-type {\n",
              "        vertical-align: middle;\n",
              "    }\n",
              "\n",
              "    .dataframe tbody tr th {\n",
              "        vertical-align: top;\n",
              "    }\n",
              "\n",
              "    .dataframe thead th {\n",
              "        text-align: right;\n",
              "    }\n",
              "</style>\n",
              "<table border=\"1\" class=\"dataframe\">\n",
              "  <thead>\n",
              "    <tr style=\"text-align: right;\">\n",
              "      <th></th>\n",
              "      <th>index</th>\n",
              "      <th>text</th>\n",
              "      <th>sentiment</th>\n",
              "    </tr>\n",
              "  </thead>\n",
              "  <tbody>\n",
              "    <tr>\n",
              "      <th>0</th>\n",
              "      <td>4675</td>\n",
              "      <td>[it, bjork55, shorter, gopdebate, support, pol...</td>\n",
              "      <td>0</td>\n",
              "    </tr>\n",
              "    <tr>\n",
              "      <th>1</th>\n",
              "      <td>10092</td>\n",
              "      <td>[it, ericstonestreet, trump, cam, hands, gopde...</td>\n",
              "      <td>0</td>\n",
              "    </tr>\n",
              "    <tr>\n",
              "      <th>2</th>\n",
              "      <td>8838</td>\n",
              "      <td>[it, rwsurfergirl, ask, trump, legitimate, que...</td>\n",
              "      <td>1</td>\n",
              "    </tr>\n",
              "    <tr>\n",
              "      <th>3</th>\n",
              "      <td>4233</td>\n",
              "      <td>[last, nights, debate, damn, well, better, ame...</td>\n",
              "      <td>1</td>\n",
              "    </tr>\n",
              "    <tr>\n",
              "      <th>4</th>\n",
              "      <td>3111</td>\n",
              "      <td>[it, thedailyedge, scott, walker, treat, every...</td>\n",
              "      <td>0</td>\n",
              "    </tr>\n",
              "    <tr>\n",
              "      <th>...</th>\n",
              "      <td>...</td>\n",
              "      <td>...</td>\n",
              "      <td>...</td>\n",
              "    </tr>\n",
              "    <tr>\n",
              "      <th>17432</th>\n",
              "      <td>3313</td>\n",
              "      <td>[it, nickparo, ny, times, say, rand, paul, mat...</td>\n",
              "      <td>1</td>\n",
              "    </tr>\n",
              "    <tr>\n",
              "      <th>17433</th>\n",
              "      <td>7838</td>\n",
              "      <td>[think, carson, said, rivals, nomination, want...</td>\n",
              "      <td>0</td>\n",
              "    </tr>\n",
              "    <tr>\n",
              "      <th>17434</th>\n",
              "      <td>4468</td>\n",
              "      <td>[it, thedailyedge, jeb, bush, cant, succeed, d...</td>\n",
              "      <td>0</td>\n",
              "    </tr>\n",
              "    <tr>\n",
              "      <th>17435</th>\n",
              "      <td>8222</td>\n",
              "      <td>[next, time, get, werner, herzog, host, gop, d...</td>\n",
              "      <td>0</td>\n",
              "    </tr>\n",
              "    <tr>\n",
              "      <th>17436</th>\n",
              "      <td>4803</td>\n",
              "      <td>[it, mahmoud, ronald, reagan, switched, partie...</td>\n",
              "      <td>0</td>\n",
              "    </tr>\n",
              "  </tbody>\n",
              "</table>\n",
              "<p>17437 rows × 3 columns</p>\n",
              "</div>"
            ],
            "text/plain": [
              "       index                                               text sentiment\n",
              "0       4675  [it, bjork55, shorter, gopdebate, support, pol...         0\n",
              "1      10092  [it, ericstonestreet, trump, cam, hands, gopde...         0\n",
              "2       8838  [it, rwsurfergirl, ask, trump, legitimate, que...         1\n",
              "3       4233  [last, nights, debate, damn, well, better, ame...         1\n",
              "4       3111  [it, thedailyedge, scott, walker, treat, every...         0\n",
              "...      ...                                                ...       ...\n",
              "17432   3313  [it, nickparo, ny, times, say, rand, paul, mat...         1\n",
              "17433   7838  [think, carson, said, rivals, nomination, want...         0\n",
              "17434   4468  [it, thedailyedge, jeb, bush, cant, succeed, d...         0\n",
              "17435   8222  [next, time, get, werner, herzog, host, gop, d...         0\n",
              "17436   4803  [it, mahmoud, ronald, reagan, switched, partie...         0\n",
              "\n",
              "[17437 rows x 3 columns]"
            ]
          },
          "metadata": {
            "tags": []
          },
          "execution_count": 43
        }
      ]
    },
    {
      "cell_type": "code",
      "metadata": {
        "id": "wEv-EU-vsoqg"
      },
      "source": [
        "data2.to_csv('final.csv')"
      ],
      "execution_count": 44,
      "outputs": []
    },
    {
      "cell_type": "code",
      "metadata": {
        "id": "D_6AElj4Tl2L"
      },
      "source": [
        "y = data2['sentiment']\n",
        "X = data2['text']"
      ],
      "execution_count": 46,
      "outputs": []
    },
    {
      "cell_type": "code",
      "metadata": {
        "id": "X80sefZoeY0z"
      },
      "source": [
        "X2 = [\" \".join(t) for t in X]\n",
        "from keras.preprocessing.text import Tokenizer\n",
        "tokenizer = Tokenizer(num_words=10000, filters='!\"#$%&()*+,-./:;<=>?@[\\]^_`{|}~', lower=True)\n",
        "tokenizer.fit_on_texts(X2)\n",
        "word_index = tokenizer.word_index"
      ],
      "execution_count": 147,
      "outputs": []
    },
    {
      "cell_type": "code",
      "metadata": {
        "colab": {
          "base_uri": "https://localhost:8080/"
        },
        "id": "Y4k9pmMp_TXh",
        "outputId": "ec05a3fb-1997-4360-d429-d7d71b138852"
      },
      "source": [
        "len(word_index)"
      ],
      "execution_count": 236,
      "outputs": [
        {
          "output_type": "execute_result",
          "data": {
            "text/plain": [
              "13656"
            ]
          },
          "metadata": {
            "tags": []
          },
          "execution_count": 236
        }
      ]
    },
    {
      "cell_type": "code",
      "metadata": {
        "id": "EdU2X7VDhm7Y"
      },
      "source": [
        "X2 = tokenizer.texts_to_sequences(X2)"
      ],
      "execution_count": 148,
      "outputs": []
    },
    {
      "cell_type": "code",
      "metadata": {
        "id": "epV1utUITl4D"
      },
      "source": [
        "from sklearn.model_selection import train_test_split\n",
        "X_train, X_test, y_train, y_test = train_test_split(X2, y, test_size = 0.2, random_state = 7)"
      ],
      "execution_count": 237,
      "outputs": []
    },
    {
      "cell_type": "code",
      "metadata": {
        "colab": {
          "base_uri": "https://localhost:8080/"
        },
        "id": "g-DlZW_PU43o",
        "outputId": "83358c6e-2f77-4237-f165-7fa4b6bc90b4"
      },
      "source": [
        "c = 0\n",
        "m = 0\n",
        "for temp in data2['text']:\n",
        "  c += len(temp)\n",
        "  if len(temp) > m:\n",
        "    m = len(temp)\n",
        "print(c / len(data2['text']))\n",
        "print(m)"
      ],
      "execution_count": 238,
      "outputs": [
        {
          "output_type": "stream",
          "text": [
            "12.077765670700234\n",
            "44\n"
          ],
          "name": "stdout"
        }
      ]
    },
    {
      "cell_type": "code",
      "metadata": {
        "id": "hyUUHvf3Tl6Z"
      },
      "source": [
        "import tensorflow as tf\n",
        "max_length = 40\n",
        "X_train = tf.keras.preprocessing.sequence.pad_sequences(X_train, maxlen = max_length)\n",
        "X_test = tf.keras.preprocessing.sequence.pad_sequences(X_test, maxlen = max_length)"
      ],
      "execution_count": 239,
      "outputs": []
    },
    {
      "cell_type": "code",
      "metadata": {
        "id": "azr4Wic5izfn"
      },
      "source": [
        "X_train = np.asarray(X_train).astype('float32')\n",
        "X_test = np.asarray(X_test).astype('float32')\n",
        "y_train = np.asarray(y_train).astype('float32')\n",
        "y_test = np.asarray(y_test).astype('float32')"
      ],
      "execution_count": 240,
      "outputs": []
    },
    {
      "cell_type": "code",
      "metadata": {
        "colab": {
          "base_uri": "https://localhost:8080/"
        },
        "id": "uWl1HZjmjHvX",
        "outputId": "253e7837-d0b4-4b92-c062-71f3eee3aebc"
      },
      "source": [
        "print(X_train.shape)\n",
        "print(X_test.shape)\n",
        "print(y_train.shape)\n",
        "print(y_test.shape)"
      ],
      "execution_count": 241,
      "outputs": [
        {
          "output_type": "stream",
          "text": [
            "(13949, 40)\n",
            "(3488, 40)\n",
            "(13949,)\n",
            "(3488,)\n"
          ],
          "name": "stdout"
        }
      ]
    },
    {
      "cell_type": "code",
      "metadata": {
        "id": "jG1wfusSW9HO"
      },
      "source": [
        "X_train, X_val, y_train, y_val = train_test_split(X_train, y_train, test_size = 0.125, random_state = 7)"
      ],
      "execution_count": 242,
      "outputs": []
    },
    {
      "cell_type": "code",
      "metadata": {
        "colab": {
          "base_uri": "https://localhost:8080/"
        },
        "id": "oymp5txWVZh7",
        "outputId": "62a3bae6-6d26-4fc5-970c-733508533ef2"
      },
      "source": [
        "embedding_vector_length = 32\n",
        "model = Sequential()\n",
        "model.add(Embedding(10000, embedding_vector_length, input_length=max_length))\n",
        "model.add(LSTM(100))\n",
        "model.add(Dense(1, activation='sigmoid'))\n",
        "model.compile(loss = 'binary_crossentropy', optimizer = 'adam', metrics = ['accuracy'])\n",
        "print(model.summary())"
      ],
      "execution_count": 336,
      "outputs": [
        {
          "output_type": "stream",
          "text": [
            "Model: \"sequential_40\"\n",
            "_________________________________________________________________\n",
            "Layer (type)                 Output Shape              Param #   \n",
            "=================================================================\n",
            "embedding_40 (Embedding)     (None, 40, 32)            320000    \n",
            "_________________________________________________________________\n",
            "lstm_40 (LSTM)               (None, 100)               53200     \n",
            "_________________________________________________________________\n",
            "dense_40 (Dense)             (None, 1)                 101       \n",
            "=================================================================\n",
            "Total params: 373,301\n",
            "Trainable params: 373,301\n",
            "Non-trainable params: 0\n",
            "_________________________________________________________________\n",
            "None\n"
          ],
          "name": "stdout"
        }
      ]
    },
    {
      "cell_type": "code",
      "metadata": {
        "colab": {
          "base_uri": "https://localhost:8080/"
        },
        "id": "4QBb3XEaiY9s",
        "outputId": "6d859ed2-12e2-436e-f5f5-12fa3c367d9e"
      },
      "source": [
        "h = model.fit(X_train, y_train, validation_data=(X_val, y_val), epochs=3, batch_size=64)"
      ],
      "execution_count": 337,
      "outputs": [
        {
          "output_type": "stream",
          "text": [
            "Epoch 1/3\n",
            "24/24 [==============================] - 10s 340ms/step - loss: 0.6884 - accuracy: 0.5301 - val_loss: 0.6278 - val_accuracy: 0.6560\n",
            "Epoch 2/3\n",
            "24/24 [==============================] - 7s 311ms/step - loss: 0.5685 - accuracy: 0.7386 - val_loss: 0.4016 - val_accuracy: 0.8263\n",
            "Epoch 3/3\n",
            "24/24 [==============================] - 8s 327ms/step - loss: 0.4667 - accuracy: 0.8060 - val_loss: 0.4223 - val_accuracy: 0.8429\n"
          ],
          "name": "stdout"
        }
      ]
    },
    {
      "cell_type": "code",
      "metadata": {
        "colab": {
          "base_uri": "https://localhost:8080/"
        },
        "id": "ScZOBvPvH3Ku",
        "outputId": "c542ab6f-f8eb-494e-89c5-0f52828370d6"
      },
      "source": [
        "scores = model.evaluate(X_test, y_test, verbose=0)\n",
        "print(\"Accuracy: %.2f%%\" % (scores[1]*100))"
      ],
      "execution_count": 325,
      "outputs": [
        {
          "output_type": "stream",
          "text": [
            "Accuracy: 76.89%\n"
          ],
          "name": "stdout"
        }
      ]
    },
    {
      "cell_type": "code",
      "metadata": {
        "id": "YtUBCL-wsDwn"
      },
      "source": [
        "history = h.history\n",
        "acc_val = history['val_accuracy']\n",
        "acc_tra = history['accuracy']"
      ],
      "execution_count": 338,
      "outputs": []
    },
    {
      "cell_type": "code",
      "metadata": {
        "colab": {
          "base_uri": "https://localhost:8080/",
          "height": 279
        },
        "id": "HwAN0_xMsuI1",
        "outputId": "d71b7813-7ff7-4465-a5e5-9b9a2de7472f"
      },
      "source": [
        "plt.xlabel('Epochs')\n",
        "plt.ylabel('Accuracy')\n",
        "plt.plot(acc_val, 'darkred')\n",
        "plt.plot(acc_tra, 'darkblue')\n",
        "plt.legend(['Validation','Training'])\n",
        "plt.grid(c='lightgrey')\n",
        "plt.show()"
      ],
      "execution_count": 339,
      "outputs": [
        {
          "output_type": "display_data",
          "data": {
            "image/png": "[encoded data removed]",
            "text/plain": [
              "<Figure size 432x288 with 1 Axes>"
            ]
          },
          "metadata": {
            "tags": [],
            "needs_background": "light"
          }
        }
      ]
    },
    {
      "cell_type": "code",
      "metadata": {
        "colab": {
          "base_uri": "https://localhost:8080/",
          "height": 279
        },
        "id": "sy7P5-tds5lz",
        "outputId": "2c260baf-964e-4e3c-dd6e-2249f78864bb"
      },
      "source": [
        "loss_val = history['val_loss']\n",
        "loss_tra = history['loss']\n",
        "plt.xlabel('Epochs')\n",
        "plt.ylabel('Loss')\n",
        "plt.plot(loss_val, 'darkred')\n",
        "plt.plot(loss_tra, 'darkblue')\n",
        "plt.legend(['Validation','Training'])\n",
        "plt.grid(c='lightgrey')\n",
        "plt.show()"
      ],
      "execution_count": 340,
      "outputs": [
        {
          "output_type": "display_data",
          "data": {
            "image/png": "[encoded data removed]",
            "text/plain": [
              "<Figure size 432x288 with 1 Axes>"
            ]
          },
          "metadata": {
            "tags": [],
            "needs_background": "light"
          }
        }
      ]
    },
    {
      "cell_type": "code",
      "metadata": {
        "colab": {
          "base_uri": "https://localhost:8080/"
        },
        "id": "c35PrSvuD3ET",
        "outputId": "e4674494-0e59-4eef-fccf-e00c87a1abb9"
      },
      "source": [
        "from sklearn.metrics import confusion_matrix , classification_report\n",
        "Y_pred = model.predict(X_test)\n",
        "y_pred = np.argmax(Y_pred, axis = 1)\n",
        "confusion_mtx = confusion_matrix(y_test, y_pred)\n",
        "print(\"confusion matrix=\\n\", confusion_mtx)"
      ],
      "execution_count": 321,
      "outputs": [
        {
          "output_type": "stream",
          "text": [
            "confusion matrix=\n",
            " [[1408    327]\n",
            " [456    1197]]\n"
          ],
          "name": "stdout"
        }
      ]
    },
    {
      "cell_type": "code",
      "metadata": {
        "colab": {
          "base_uri": "https://localhost:8080/"
        },
        "id": "_fDjRNvXGh6r",
        "outputId": "886c2486-b266-415d-d6c4-5587f8dcfa4b"
      },
      "source": [
        "from sklearn.metrics import f1_score\n",
        "from sklearn.metrics import precision_score\n",
        "from sklearn.metrics import recall_score\n",
        "print(\"F1 Score: %.2f%%\" % (f1_score(y_test, y_pred, average='macro')*100))\n",
        "print(\"Precision: %.2f%%\" % (precision_score(y_test, y_pred, average='macro')*100))\n",
        "print(\"Recall: %.2f%%\" % (recall_score(y_test, y_pred, average='macro')*100))"
      ],
      "execution_count": 324,
      "outputs": [
        {
          "output_type": "stream",
          "text": [
            "F1 Score: 75.35%\n",
            "Precision: 78.54%\n",
            "Recall: 72.41%\n"
          ],
          "name": "stdout"
        }
      ]
    }
  ]
}